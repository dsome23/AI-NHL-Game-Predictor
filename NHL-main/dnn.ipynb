{
 "cells": [
  {
   "cell_type": "markdown",
   "id": "f33e21eb-7b49-4a27-b7ce-71bccdeb86ca",
   "metadata": {},
   "source": [
    "# NHL Game Predictor\n",
    "### Important Notes\n",
    "* When I use the year, it refers to the year the season ends.\n",
    "    * Like for example the 2024-2025 is marked as 2025.\n",
    "* nhl-XX.csv is the score data for a given season.\n",
    "    * Links to get this data is as follows:\n",
    "      * [2022 Season](https://shanemcd.org/2021/09/23/2021-22-nhl-schedule-and-results-in-excel-xlsx-and-csv-formats/)\n",
    "      * [2023 Season](https://shanemcd.org/2022/07/12/2022-23-nhl-schedule-and-results-in-excel-xlsx-and-csv-formats/)\n",
    "      * [2024 Season](https://shanemcd.org/2023/08/23/2023-24-nhl-schedule-and-results-in-excel-xlsx-and-csv-formats/)\n",
    "      * [2025 Season](https://shanemcd.org/2024/09/07/2024-25-nhl-schedule-and-results-in-excel-xlsx-and-csv-formats/)\n",
    "      * All on shanemcd.org, note that I have to redownload the 2025 season data for updated results (csv download of course).\n",
    "* teamsXX.csv is the team data for a given season.\n",
    "    * Links to the data is from [MoneyPuck.com](https://moneypuck.com/data.htm)\n",
    "    * Downloads are from the Team Level"
   ]
  },
  {
   "cell_type": "code",
   "execution_count": null,
   "id": "143c7bb7-02fe-433f-9e00-a19236a0a60b",
   "metadata": {},
   "outputs": [],
   "source": [
    "!pip install tensorflow"
   ]
  },
  {
   "cell_type": "code",
   "execution_count": 112,
   "id": "76650be4-1a3a-4299-b376-ac505d706193",
   "metadata": {},
   "outputs": [],
   "source": [
    "import pandas as pd\n",
    "import numpy as np\n",
    "import matplotlib.pyplot as plt\n",
    "import tensorflow.keras as keras\n",
    "import tensorflow as tf\n",
    "from tensorflow.keras.models import Sequential\n",
    "from tensorflow.keras.layers import Dense, Flatten, Dropout\n",
    "from tensorflow.keras.callbacks import EarlyStopping, ReduceLROnPlateau\n",
    "from tensorflow.keras.optimizers import Adam\n",
    "%matplotlib inline\n",
    "from sklearn.model_selection import train_test_split, RandomizedSearchCV\n",
    "from sklearn import metrics\n",
    "from sklearn.metrics import accuracy_score, confusion_matrix\n",
    "from sklearn.preprocessing import StandardScaler\n",
    "from sklearn.utils.class_weight import compute_class_weight\n",
    "from scikeras.wrappers import KerasClassifier\n",
    "pd.set_option('display.max_columns', None)"
   ]
  },
  {
   "cell_type": "markdown",
   "id": "784329e2-ca44-4473-8b00-bb9811f66d20",
   "metadata": {},
   "source": [
    "### getTeam(abbreviation)\n",
    "This returns the team name given the abbrevation"
   ]
  },
  {
   "cell_type": "code",
   "execution_count": 40,
   "id": "a9366c0e-92ee-40ed-a85d-b9e2b7dc42d3",
   "metadata": {},
   "outputs": [],
   "source": [
    "abbrev = pd.read_csv(\"abbreviations.csv\")\n",
    "abbrev.index = abbrev[\"Abbrev\"]\n",
    "abbrev = abbrev.drop(\"Abbrev\", axis=1)\n",
    "abbrev = abbrev.to_dict(\"index\")\n",
    "abbrev = {k: v['Team'] for k, v in abbrev.items()}\n",
    "def getTeam(text):\n",
    "    text = text.upper()\n",
    "    return abbrev[text]"
   ]
  },
  {
   "cell_type": "markdown",
   "id": "dd7a24ea-555c-4e30-9c84-44eccb40f1b8",
   "metadata": {},
   "source": [
    "The cell bellow imports the game data and makes only gets the score and winner"
   ]
  },
  {
   "cell_type": "code",
   "execution_count": null,
   "id": "4126c524-2bc0-4cfa-b993-02542f1b30c6",
   "metadata": {},
   "outputs": [],
   "source": [
    "def import_games(file):\n",
    "    game_data = pd.read_csv(file)\n",
    "    game_data = game_data[game_data[\"Status\"] != \"Scheduled\"]\n",
    "    game_data = game_data.rename(columns={\"Score\": \"AwayScore\", \"Score.1\": \"HomeScore\",\"Visitor\": \"Away\"})\n",
    "    game_data[\"HomeWin\"] = game_data[\"HomeScore\"] > game_data[\"AwayScore\"]\n",
    "    game_data[\"HomeWin\"] = game_data[\"HomeWin\"].astype(int)\n",
    "    game_data = game_data[[\"Away\",\"AwayScore\",\"Home\",\"HomeScore\",\"HomeWin\"]]\n",
    "    return game_data\n",
    "games22 = import_games(\"nhl-22.csv\")\n",
    "games23 = import_games(\"nhl-23.csv\")\n",
    "games24 = import_games(\"nhl-24.csv\")\n",
    "games25 = import_games(\"nhl-25.csv\")\n",
    "games25"
   ]
  },
  {
   "cell_type": "code",
   "execution_count": null,
   "id": "dd2182e1-b4e3-4fed-bd89-487cc8f13ca7",
   "metadata": {},
   "outputs": [],
   "source": [
    "def get_records(data):\n",
    "    results = {}\n",
    "    for i, row in data.iterrows():\n",
    "        away = row[\"Away\"]\n",
    "        awayScore = row[\"AwayScore\"]\n",
    "        home = row[\"Home\"]\n",
    "        homeScore = row[\"HomeScore\"]\n",
    "        homeWin = row[\"HomeWin\"]\n",
    "        # [points scored, points allowed, wins, gp, win%]\n",
    "        if away not in results:\n",
    "            results[away] = [0,0,0,0,0]\n",
    "        if home not in results:\n",
    "            results[home] = [0,0,0,0,0]\n",
    "        results[away][3] += 1\n",
    "        results[home][3] += 1\n",
    "        if homeWin == 0:\n",
    "            results[away][2] += 1\n",
    "        if homeWin == 1:\n",
    "            results[home][2] += 1\n",
    "        results[away][0] += awayScore\n",
    "        results[away][1] += homeScore\n",
    "        results[home][0] += homeScore\n",
    "        results[home][1] += awayScore\n",
    "        results[away][4] = results[away][2] / results[away][3]\n",
    "        results[home][4] = results[home][2] / results[home][3]\n",
    "        df = pd.DataFrame.from_dict(results, orient=\"index\", columns=[\"GS\", \"GA\", \"Wins\",\"GP\",\"Win%\"])\n",
    "        df[\"GD\"] = df[\"GS\"] - df[\"GA\"]\n",
    "        df = df[[\"GS\",\"GA\",\"GD\",\"Win%\"]]\n",
    "    return df\n",
    "records22 = get_records(games22)\n",
    "records23 = get_records(games23)\n",
    "records24 = get_records(games24)\n",
    "records25 = get_records(games25)\n",
    "records25"
   ]
  },
  {
   "cell_type": "code",
   "execution_count": 45,
   "id": "2d996fb8-2446-4ea1-b443-db3680cf6078",
   "metadata": {},
   "outputs": [],
   "source": [
    "def import_teams(file):\n",
    "    season_data = pd.read_csv(file)\n",
    "    season_data = season_data[season_data.situation == \"all\"]\n",
    "    season_data = season_data.drop([\"team.1\", \"position\", \"situation\", \"season\", \"name\"], axis=1)\n",
    "    season_data[\"team\"] = season_data[\"team\"].apply(getTeam)\n",
    "    season_data = season_data.reset_index()\n",
    "    season_data = season_data.drop([\"index\"], axis=1)\n",
    "    return season_data"
   ]
  },
  {
   "cell_type": "code",
   "execution_count": null,
   "id": "e11b14c5-0ebf-413e-bf6a-8f586bcdc683",
   "metadata": {},
   "outputs": [],
   "source": [
    "def add_records(teamdata, recorddata):\n",
    "    teamdata.insert(1,\"Win%\",0.0)\n",
    "    teamdata.insert(1,\"GD\",0)\n",
    "    teamdata.insert(1,\"GA\",0)\n",
    "    teamdata.insert(1,\"GS\",0)\n",
    "    for i in recorddata.index:\n",
    "        current = recorddata.loc[i]\n",
    "        teamdata.loc[teamdata[\"team\"] == i,\"GS\"] = current[\"GS\"]\n",
    "        teamdata.loc[teamdata[\"team\"] == i,\"GA\"] = current[\"GA\"]\n",
    "        teamdata.loc[teamdata[\"team\"] == i,\"GD\"] = current[\"GD\"]\n",
    "        teamdata.loc[teamdata[\"team\"] == i,\"Win%\"] = current[\"Win%\"]\n",
    "    return teamdata\n",
    "\n",
    "teamdata22 = import_teams(\"teams22.csv\")\n",
    "teamdata23 = import_teams(\"teams23.csv\")\n",
    "teamdata24 = import_teams(\"teams24.csv\")\n",
    "teamdata25 = import_teams(\"teams25.csv\")\n",
    "add_records(teamdata22, records22)\n",
    "add_records(teamdata23, records23)\n",
    "add_records(teamdata24, records24)\n",
    "add_records(teamdata25, records25)\n",
    "teamdata25"
   ]
  },
  {
   "cell_type": "code",
   "execution_count": null,
   "id": "ebb57e93-41c7-4315-8026-8c637107007d",
   "metadata": {},
   "outputs": [],
   "source": [
    "def set_game_stats(games, teams):\n",
    "    gameStats = games.copy(deep = False)\n",
    "    difflist = []\n",
    "    for i, row in gameStats.iterrows():\n",
    "        awayStats = teams[teams[\"team\"] == row[\"Away\"]]\n",
    "        homeStats = teams[teams[\"team\"] == row[\"Home\"]]\n",
    "        awayStats = awayStats.drop([\"team\"], axis=1)\n",
    "        homeStats = homeStats.drop([\"team\"], axis=1)\n",
    "        diff = pd.DataFrame(np.subtract(homeStats.values, awayStats.values), columns=homeStats.columns)\n",
    "        diff.index = [i]\n",
    "        difflist.append(diff)\n",
    "    difflist = pd.concat(difflist, ignore_index = False)\n",
    "    difflist = pd.concat([gameStats, difflist], axis=1)\n",
    "    return difflist\n",
    "gameStats22 = set_game_stats(games22, teamdata22)\n",
    "gameStats23 = set_game_stats(games23, teamdata23)\n",
    "gameStats24 = set_game_stats(games24, teamdata24)\n",
    "gameStats25 = set_game_stats(games25, teamdata25)\n",
    "all_game_stats = pd.concat([gameStats22, gameStats23, gameStats24, gameStats25], ignore_index=True)\n",
    "all_game_stats"
   ]
  },
  {
   "cell_type": "code",
   "execution_count": 48,
   "id": "aa72ed08-3b19-43af-ae82-070b3de9cc33",
   "metadata": {},
   "outputs": [],
   "source": [
    "def getX(gameStats, filters):\n",
    "    return pd.DataFrame(StandardScaler().fit_transform(gameStats[filters].T).T,columns=filters)\n",
    "def getY(gameStats):\n",
    "    return gameStats[\"HomeWin\"]"
   ]
  },
  {
   "cell_type": "markdown",
   "id": "2371cdfb-f8ed-47dc-afe2-5e8bec713865",
   "metadata": {},
   "source": [
    "## DNN Model"
   ]
  },
  {
   "cell_type": "code",
   "execution_count": null,
   "id": "ef149790-3f61-4f51-83d6-46c415dafd08",
   "metadata": {},
   "outputs": [],
   "source": [
    "filter_dnn = [\n",
    "    \"GS\", \"GA\", \"GD\", \"Win%\", \"xGoalsPercentage\", \"corsiPercentage\", \"fenwickPercentage\",\n",
    "    \"shotAttemptsFor\", \"shotAttemptsAgainst\", \"xReboundsFor\", \"xReboundsAgainst\",\n",
    "    \"xOnGoalFor\", \"xOnGoalAgainst\", \"xGoalsFor\", \"xGoalsAgainst\", \"shotsOnGoalFor\",\n",
    "    \"shotsOnGoalAgainst\", \"blockedShotAttemptsFor\", \"xGoalsFromxReboundsOfShotsFor\",\n",
    "    \"unblockedShotAttemptsAgainst\", \"blockedShotAttemptsAgainst\", \"takeawaysFor\", \"takeawaysAgainst\",\n",
    "    \"penaltiesFor\", \"faceOffsWonFor\"\n",
    "]\n",
    "scaler = StandardScaler()\n",
    "x = getX(all_game_stats, filter_dnn)\n",
    "y = getY(all_game_stats)\n",
    "x_train, x_test, y_train, y_test = train_test_split(x.values, y.values, test_size=0.25)\n",
    "x"
   ]
  },
  {
   "cell_type": "code",
   "execution_count": 113,
   "id": "60e230bd-e659-4a85-a944-d7ac387078a3",
   "metadata": {},
   "outputs": [],
   "source": [
    "def create_dnn_model(X_train, y_train, X_test, y_test, hidden=[64,32,16], epochs=150 , batch_size=64):\n",
    "    model = Sequential()\n",
    "    model.add(Flatten())\n",
    "    for n in hidden:\n",
    "        model.add(Dense(n, activation='relu'))\n",
    "        model.add(Dropout(.2))\n",
    "    model.add(Dense(1, activation='sigmoid'))\n",
    "\n",
    "    \n",
    "    model.compile(loss=\"binary_crossentropy\",\n",
    "                optimizer=Adam(learning_rate=.001),\n",
    "                metrics=['accuracy'])\n",
    "    \n",
    "    class_weights = compute_class_weight(class_weight='balanced', classes=np.unique(y_train), y=y_train)\n",
    "    class_weights = dict(enumerate(class_weights))\n",
    "    \n",
    "    early_stopping = EarlyStopping(monitor='val_loss', mode='min', patience=100, restore_best_weights=True)\n",
    "    lr_scheduler = ReduceLROnPlateau(monitor='val_loss', mode='min',factor=0.5, patience=25,min_lr=.0001, verbose=1)\n",
    "\n",
    "    history = model.fit(x=X_train, y=y_train,\n",
    "                        validation_data=(X_test, y_test),\n",
    "                        batch_size=batch_size, epochs=epochs,\n",
    "                        verbose=1, callbacks=[early_stopping, lr_scheduler], \n",
    "                        class_weight=class_weights)\n",
    "    model.summary()\n",
    "\n",
    "    train_pred = np.rint(model.predict(X_train))\n",
    "    train_acc = 100. * accuracy_score(y_train, train_pred)\n",
    "    print(\"Accuracy on train set: {:.2f}%\".format(train_acc))\n",
    "\n",
    "    test_pred = np.rint(model.predict(X_test))\n",
    "    test_acc = 100. * accuracy_score(y_test, test_pred)\n",
    "    print(\"Accuracy on test set: {:.2f}%\".format(test_acc))\n",
    "\n",
    "    cm_display = metrics.ConfusionMatrixDisplay(confusion_matrix = confusion_matrix(y_test, test_pred), display_labels = [\"Away Win\", \"Home Win\"])\n",
    "    cm_display.plot()\n",
    "    plt.show()\n",
    "\n",
    "    return history, model, test_acc"
   ]
  },
  {
   "cell_type": "code",
   "execution_count": null,
   "id": "9de8fe6b-b5bf-4e2f-ba8f-739b41a524f8",
   "metadata": {},
   "outputs": [],
   "source": [
    "test_acc = 0\n",
    "while test_acc < 64.8:\n",
    "    history, model, test_acc = create_dnn_model(x_train, y_train, x_test, y_test, hidden=[128, 96, 64, 32, 16, 4], epochs=150, batch_size=128)\n"
   ]
  },
  {
   "cell_type": "code",
   "execution_count": 122,
   "id": "7c759633",
   "metadata": {},
   "outputs": [],
   "source": [
    "def getTeam(team, stats):\n",
    "    return stats.loc[stats[\"team\"] == team]\n",
    "\n",
    "def getGameSet(awayTeam, homeTeam):\n",
    "    awayTeam = awayTeam.drop([\"team\"], axis=1)\n",
    "    homeTeam = homeTeam.drop([\"team\"], axis=1)\n",
    "    diff = pd.DataFrame(np.subtract(homeTeam.values, awayTeam.values), columns=homeTeam.columns)\n",
    "    return diff"
   ]
  },
  {
   "cell_type": "code",
   "execution_count": null,
   "id": "5e34f55c",
   "metadata": {},
   "outputs": [],
   "source": [
    "import pickle\n",
    "# pickle.dump(model, open(\"dnn.pkl\",\"wb\"))\n",
    "test = pickle.load(open(\"dnn.pkl\", \"rb\"))"
   ]
  },
  {
   "cell_type": "code",
   "execution_count": null,
   "id": "946fbfad-2603-42d6-ade9-5c2a89717b95",
   "metadata": {},
   "outputs": [],
   "source": [
    "away = getTeam(\"Los Angeles Kings\", teamdata25)\n",
    "home = getTeam(\"New York Rangers\", teamdata25)\n",
    "gameSet = getGameSet(away, home)\n",
    "prediction = getX(gameSet, filter_dnn)\n",
    "#Use newly generated model \n",
    "result_new = model.predict(prediction.values)\n",
    "result_new = (result_new >= 0.5).astype(int)\n",
    "print(result_new)\n",
    "#Use saved model \n",
    "result_saved = test.predict(prediction.values)\n",
    "result_saved = (result_saved >= 0.5).astype(int)\n",
    "print(result_saved)\n"
   ]
  },
  {
   "cell_type": "code",
   "execution_count": null,
   "id": "4595b31d",
   "metadata": {},
   "outputs": [],
   "source": [
    "aways = [\"Ottawa Senators\",\"Chicago Blackhawks\",\"Los Angeles Kings\",\"Philadelphia Flyers\",\"Vegas Golden Knights\",\"Anaheim Ducks\",\"Buffalo Sabres\",\"Montreal Canadiens\",\"Pittsburgh Penguins\",\"Toronto Maple Leafs\",\"St. Louis Blues\",\"Nashville Predators\",\"Boston Bruins\",\"Florida Panthers\",\"Tampa Bay Lightning\",\"Utah Hockey Club\"]\n",
    "homes = [\"Carolina Hurricanes\",\"New Jersey Devils\",\"New York Rangers\",\"Minnesota Wild\",\"Edmonton Oilers\",\"Columbus Blue Jackets\",\"Washington Capitals\",\"Winnipeg Jets\",\"Ottawa Senators\",\"Detroit Red Wings\",\"Dallas Stars\",\"Colorado Avalanche\",\"Vancouver Canucks\",\"Calgary Flames\",\"Seattle Kraken\",\"San Jose Sharks\"]\n",
    "p = []\n",
    "year = teamdata25\n",
    "for i in range(len(aways)):\n",
    "    a = getTeam(aways[i], year)\n",
    "    h = getTeam(homes[i], year)\n",
    "    gS = getGameSet(a,h)\n",
    "    t = getX(gS, filter_dnn)\n",
    "    cols_to_move = [\"Away\", \"Home\", \"Prediction\"]\n",
    "    t[\"Away\"] = aways[i]\n",
    "    t[\"Home\"] = homes[i]\n",
    "    t[\"Prediction\"] = -1\n",
    "    t = t[cols_to_move + [col for col in t.columns if col not in cols_to_move]]\n",
    "    p.append(t)\n",
    "\n",
    "predictions = pd.concat(p, ignore_index=True)\n",
    "results = test.predict(predictions[filter_dnn].values)\n",
    "predictions[\"Prediction\"] = results\n",
    "print(results)\n",
    "predictions"
   ]
  }
 ],
 "metadata": {
  "kernelspec": {
   "display_name": "base",
   "language": "python",
   "name": "python3"
  },
  "language_info": {
   "codemirror_mode": {
    "name": "ipython",
    "version": 3
   },
   "file_extension": ".py",
   "mimetype": "text/x-python",
   "name": "python",
   "nbconvert_exporter": "python",
   "pygments_lexer": "ipython3",
   "version": "3.12.4"
  }
 },
 "nbformat": 4,
 "nbformat_minor": 5
}
